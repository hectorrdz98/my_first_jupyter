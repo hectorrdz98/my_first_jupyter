{
 "cells": [
  {
   "cell_type": "code",
   "execution_count": 1,
   "id": "legitimate-stanford",
   "metadata": {},
   "outputs": [],
   "source": [
    "elements = [1,23,4,5]"
   ]
  },
  {
   "cell_type": "code",
   "execution_count": 2,
   "id": "conservative-shooting",
   "metadata": {},
   "outputs": [],
   "source": [
    "result = map(print, elements)"
   ]
  },
  {
   "cell_type": "code",
   "execution_count": 3,
   "id": "humanitarian-paris",
   "metadata": {},
   "outputs": [
    {
     "name": "stdout",
     "output_type": "stream",
     "text": [
      "1\n",
      "23\n",
      "4\n",
      "5\n",
      "[None, None, None, None]\n"
     ]
    }
   ],
   "source": [
    "# print(set(result))\n",
    "print(list(result))"
   ]
  },
  {
   "cell_type": "code",
   "execution_count": 4,
   "id": "golden-discount",
   "metadata": {},
   "outputs": [
    {
     "name": "stdout",
     "output_type": "stream",
     "text": [
      "[2, 46, 8, 10]\n"
     ]
    }
   ],
   "source": [
    "plus = map(lambda x: x + x, elements)\n",
    "print(list(plus))"
   ]
  }
 ],
 "metadata": {
  "kernelspec": {
   "display_name": "Python 3",
   "language": "python",
   "name": "python3"
  },
  "language_info": {
   "codemirror_mode": {
    "name": "ipython",
    "version": 3
   },
   "file_extension": ".py",
   "mimetype": "text/x-python",
   "name": "python",
   "nbconvert_exporter": "python",
   "pygments_lexer": "ipython3",
   "version": "3.6.9"
  }
 },
 "nbformat": 4,
 "nbformat_minor": 5
}
