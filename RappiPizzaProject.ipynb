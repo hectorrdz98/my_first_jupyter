{
 "cells": [
  {
   "cell_type": "code",
   "execution_count": 1,
   "id": "nuclear-morocco",
   "metadata": {},
   "outputs": [],
   "source": [
    "import pandas as pd"
   ]
  },
  {
   "cell_type": "code",
   "execution_count": 2,
   "id": "applied-chancellor",
   "metadata": {},
   "outputs": [],
   "source": [
    "df = pd.read_csv(r'rappi-pizza.csv')"
   ]
  },
  {
   "cell_type": "code",
   "execution_count": 3,
   "id": "clear-warning",
   "metadata": {},
   "outputs": [
    {
     "name": "stdout",
     "output_type": "stream",
     "text": [
      "                                 name  rating\n",
      "0               Restaurante Pipí Cucú     NaN\n",
      "1                    United Pepperoni     NaN\n",
      "2       Nostro Capriccio Mediterraneo     NaN\n",
      "3                        Vini Paninni     NaN\n",
      "4                  F*cking Good Pizza     NaN\n",
      "5               La Pixería de Luchito     NaN\n",
      "6                       La Focachería     NaN\n",
      "7                San Giorgio Pizzeria     NaN\n",
      "8                           Rut Marut     NaN\n",
      "9                       Pizza Maestra     4.1\n",
      "10                     Caminera Pizza     4.7\n",
      "11                  Chilaquil At Nite     NaN\n",
      "12              Trattoria Pepe-roni´s     NaN\n",
      "13                               Kemi     NaN\n",
      "14                        Homie Pizza     NaN\n",
      "15                     Little Caesars     4.6\n",
      "16                            Capicci     NaN\n",
      "17                              Pixza     NaN\n",
      "18                      The Cut Pizza     NaN\n",
      "19         Capricciosas Pizza Gourmet     4.7\n",
      "20                   Pimiento Pepper.     NaN\n",
      "21                    Balmori Roofbar     NaN\n",
      "22                          Pizza Hut     4.4\n",
      "23                         Cochi Nite     NaN\n",
      "24                 Peggy Sues Villeda     NaN\n",
      "25                    Balboa Pizzería     4.6\n",
      "26           California Pizza Kitchen     4.7\n",
      "27                            Oregano     NaN\n",
      "28                     Domino's Pizza     NaN\n",
      "29                      Amore Vegano.     NaN\n",
      "30                            Da Totó     NaN\n",
      "31               Ke-To Pizza & Salads     4.1\n",
      "32                             Farina     4.3\n",
      "33  Sheraton Mexico City Maria Isabel     NaN\n",
      "34                      Pizza At Nite     4.4\n",
      "35             Principia Tasting Room     NaN\n",
      "36                        Rosso Pizza     4.3\n",
      "37                           OK Pizza     NaN\n",
      "38                            Pitz On     NaN\n",
      "39    Rusticana Pizzeria E Ristorante     NaN\n"
     ]
    }
   ],
   "source": [
    "print(df[['name', 'rating']])"
   ]
  }
 ],
 "metadata": {
  "kernelspec": {
   "display_name": "Python 3",
   "language": "python",
   "name": "python3"
  },
  "language_info": {
   "codemirror_mode": {
    "name": "ipython",
    "version": 3
   },
   "file_extension": ".py",
   "mimetype": "text/x-python",
   "name": "python",
   "nbconvert_exporter": "python",
   "pygments_lexer": "ipython3",
   "version": "3.6.9"
  }
 },
 "nbformat": 4,
 "nbformat_minor": 5
}
