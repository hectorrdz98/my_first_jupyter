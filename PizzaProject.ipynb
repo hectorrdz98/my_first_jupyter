{
 "cells": [
  {
   "cell_type": "code",
   "execution_count": 1,
   "id": "adequate-virginia",
   "metadata": {},
   "outputs": [],
   "source": [
    "import pandas as pd"
   ]
  },
  {
   "cell_type": "code",
   "execution_count": 2,
   "id": "hourly-galaxy",
   "metadata": {},
   "outputs": [],
   "source": [
    "df = pd.read_csv(r'pizza.csv')"
   ]
  },
  {
   "cell_type": "code",
   "execution_count": 3,
   "id": "destroyed-prediction",
   "metadata": {
    "scrolled": true
   },
   "outputs": [
    {
     "name": "stdout",
     "output_type": "stream",
     "text": [
      "The average min price is $4.6555\n",
      "The average max price is $27.7642\n",
      "The average final price is $16.20985\n"
     ]
    }
   ],
   "source": [
    "priceRangeMin = df['priceRangeMin'].mean()\n",
    "priceRangeMax = df['priceRangeMax'].mean()\n",
    "print('The average min price is ${}'.format(priceRangeMin))\n",
    "print('The average max price is ${}'.format(priceRangeMax))\n",
    "\n",
    "meanPrice = (priceRangeMax + priceRangeMin) / 2\n",
    "print('The average final price is ${}'.format(meanPrice))"
   ]
  }
 ],
 "metadata": {
  "kernelspec": {
   "display_name": "Python 3",
   "language": "python",
   "name": "python3"
  },
  "language_info": {
   "codemirror_mode": {
    "name": "ipython",
    "version": 3
   },
   "file_extension": ".py",
   "mimetype": "text/x-python",
   "name": "python",
   "nbconvert_exporter": "python",
   "pygments_lexer": "ipython3",
   "version": "3.6.9"
  }
 },
 "nbformat": 4,
 "nbformat_minor": 5
}
